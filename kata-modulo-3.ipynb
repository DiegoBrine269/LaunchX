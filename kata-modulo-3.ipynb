{
 "cells": [
  {
   "cell_type": "code",
   "execution_count": null,
   "metadata": {},
   "outputs": [],
   "source": [
    "# Añadir el código necesario para crear una variable que guarde la velocidad del asteroide.\n",
    "# Escribe una expresión de prueba para calcular si necesita una advertencia.\n",
    "# Agregue las instrucciones que se ejecutarán si la expresión de prueba es true o false.\n",
    "velocity = 49\n",
    "if velocity > 25:\n",
    "    print(\"El asteroide se acerca demasiado rápido.\")\n",
    "else:\n",
    "    print(\"No hay de qué preocuparse\")"
   ]
  },
  {
   "cell_type": "code",
   "execution_count": null,
   "metadata": {},
   "outputs": [],
   "source": [
    "# Agrega el código para crear una variable para un asteroide que viaja a 19 km/s\n",
    "# Escribe varias expresiones de prueba para determinar si puedes ver el rayo de luz desde la tierra\n",
    "# Agrega las instrucciones que se ejecutarán si las expresiones de prueba son True o False\n",
    "velocity = 19\n",
    "if velocity >= 20:\n",
    "    print(\"Atentos a la luz producida por el asteroide\")\n",
    "else:\n",
    "    print(\"No hay asteroides dentro de la atmósfera\")"
   ]
  },
  {
   "cell_type": "code",
   "execution_count": null,
   "metadata": {},
   "outputs": [],
   "source": [
    "# Agrega el código para crear nuevas variables para la velocidad y el tamaño del asteroide\n",
    "# Para probar el código, prueba con varias velocidades y tamaños\n",
    "# Escribe varias expresiones de prueba o combinaciones de expresiones de prueba para determinar qué mensaje se debe enviar a Tierra.\n",
    "velocity = 25\n",
    "size = 40\n",
    "\n",
    "if velocity > 25 and size > 25:\n",
    "    print(\"Peligro, un asteroide de gran tamaño se acerca a gran velocidad\")\n",
    "elif velocity >= 20:\n",
    "    print(\"Atentos a la luz en el cielo\")\n",
    "elif velocity < 25:\n",
    "    print(\"No hay de qué preocuparse\")"
   ]
  }
 ],
 "metadata": {
  "language_info": {
   "name": "python"
  },
  "orig_nbformat": 4
 },
 "nbformat": 4,
 "nbformat_minor": 2
}
